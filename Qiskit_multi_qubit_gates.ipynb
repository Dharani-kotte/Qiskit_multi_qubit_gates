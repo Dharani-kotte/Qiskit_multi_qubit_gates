{
 "cells": [
  {
   "cell_type": "code",
   "execution_count": 1,
   "id": "bdb76644-4072-4926-a716-037352241ec2",
   "metadata": {},
   "outputs": [
    {
     "name": "stdout",
     "output_type": "stream",
     "text": [
      "Requirement already satisfied: qiskit in c:\\users\\dharani\\anaconda3\\ml\\lib\\site-packages (2.2.1)\n",
      "Requirement already satisfied: qiskit-aer in c:\\users\\dharani\\anaconda3\\ml\\lib\\site-packages (0.17.2)\n",
      "Requirement already satisfied: rustworkx>=0.15.0 in c:\\users\\dharani\\anaconda3\\ml\\lib\\site-packages (from qiskit) (0.17.1)\n",
      "Requirement already satisfied: numpy<3,>=1.17 in c:\\users\\dharani\\anaconda3\\ml\\lib\\site-packages (from qiskit) (1.26.4)\n",
      "Requirement already satisfied: scipy>=1.5 in c:\\users\\dharani\\anaconda3\\ml\\lib\\site-packages (from qiskit) (1.13.1)\n",
      "Requirement already satisfied: dill>=0.3 in c:\\users\\dharani\\anaconda3\\ml\\lib\\site-packages (from qiskit) (0.3.8)\n",
      "Requirement already satisfied: stevedore>=3.0.0 in c:\\users\\dharani\\anaconda3\\ml\\lib\\site-packages (from qiskit) (5.5.0)\n",
      "Requirement already satisfied: typing-extensions in c:\\users\\dharani\\anaconda3\\ml\\lib\\site-packages (from qiskit) (4.15.0)\n",
      "Requirement already satisfied: psutil>=5 in c:\\users\\dharani\\anaconda3\\ml\\lib\\site-packages (from qiskit-aer) (5.9.0)\n",
      "Requirement already satisfied: python-dateutil>=2.8.0 in c:\\users\\dharani\\anaconda3\\ml\\lib\\site-packages (from qiskit-aer) (2.9.0.post0)\n",
      "Requirement already satisfied: six>=1.5 in c:\\users\\dharani\\anaconda3\\ml\\lib\\site-packages (from python-dateutil>=2.8.0->qiskit-aer) (1.16.0)\n"
     ]
    }
   ],
   "source": [
    "!pip install qiskit qiskit-aer --upgrade"
   ]
  },
  {
   "cell_type": "markdown",
   "id": "05f13fab-a97e-4016-83c9-a3a6b881c221",
   "metadata": {},
   "source": [
    "Multi-Qubit Gate Operations (Qiskit)"
   ]
  },
  {
   "cell_type": "code",
   "execution_count": 3,
   "id": "97db22df-b5aa-44cf-b666-cf4576bc865c",
   "metadata": {},
   "outputs": [
    {
     "name": "stdout",
     "output_type": "stream",
     "text": [
      "Quantum Circuit:\n",
      "        ┌───┐            ░ ┌─┐   \n",
      "   q_0: ┤ H ├──■───■──X──░─┤M├───\n",
      "        └───┘┌─┴─┐ │  │  ░ └╥┘┌─┐\n",
      "   q_1: ─────┤ X ├─■──X──░──╫─┤M├\n",
      "             └───┘       ░  ║ └╥┘\n",
      "   c: 2/════════════════════╬══╬═\n",
      "                            ║  ║ \n",
      "meas: 2/════════════════════╩══╩═\n",
      "                            0  1 \n",
      "\n",
      "Measurement Counts: {'00 00': 507, '11 00': 517}\n"
     ]
    }
   ],
   "source": [
    "from qiskit import QuantumCircuit, transpile\n",
    "from qiskit_aer import AerSimulator\n",
    "\n",
    "# Initialize simulator\n",
    "sim = AerSimulator()\n",
    "\n",
    "# Create a 2-qubit circuit\n",
    "qc = QuantumCircuit(2, 2)\n",
    "\n",
    "# --- Apply multi-qubit gates ---\n",
    "qc.h(0)        # Hadamard on qubit 0\n",
    "qc.cx(0, 1)    # CNOT with control 0 and target 1\n",
    "qc.cz(0, 1)    # Controlled-Z\n",
    "qc.swap(0, 1)  # Swap qubit 0 and 1\n",
    "\n",
    "# Measure all qubits\n",
    "qc.measure_all()\n",
    "\n",
    "# Display circuit\n",
    "print(\"Quantum Circuit:\")\n",
    "print(qc.draw())\n",
    "\n",
    "# Run simulation\n",
    "compiled = transpile(qc, sim)\n",
    "result = sim.run(compiled, shots=1024).result()\n",
    "\n",
    "# Display results\n",
    "counts = result.get_counts()\n",
    "print(\"\\nMeasurement Counts:\", counts)"
   ]
  },
  {
   "cell_type": "markdown",
   "id": "c40de750-95a6-48d7-aea9-c05df7645bcd",
   "metadata": {},
   "source": [
    "Task 1: Control/Target Variation"
   ]
  },
  {
   "cell_type": "code",
   "execution_count": 3,
   "id": "ff5bbba1-7d8b-46ea-b95c-4c1041663e81",
   "metadata": {},
   "outputs": [
    {
     "name": "stdout",
     "output_type": "stream",
     "text": [
      "Quantum Circuit (Swapped Control/Target):\n",
      "             ┌───┐       ░ ┌─┐   \n",
      "   q_0: ─────┤ X ├─■──X──░─┤M├───\n",
      "        ┌───┐└─┬─┘ │  │  ░ └╥┘┌─┐\n",
      "   q_1: ┤ H ├──■───■──X──░──╫─┤M├\n",
      "        └───┘            ░  ║ └╥┘\n",
      "   c: 2/════════════════════╬══╬═\n",
      "                            ║  ║ \n",
      "meas: 2/════════════════════╩══╩═\n",
      "                            0  1 \n",
      "\n",
      "Measurement Counts: {'00 00': 544, '11 00': 480}\n"
     ]
    }
   ],
   "source": [
    "from qiskit import QuantumCircuit, transpile\n",
    "from qiskit_aer import AerSimulator\n",
    "\n",
    "sim = AerSimulator()\n",
    "\n",
    "qc = QuantumCircuit(2, 2)\n",
    "\n",
    "# --- Apply multi-qubit gates with swapped control and target ---\n",
    "qc.h(1)        # Apply Hadamard on qubit 1 instead of 0\n",
    "qc.cx(1, 0)    # CNOT with control=1, target=0 (swapped)\n",
    "qc.cz(1, 0)    # Controlled-Z with control=1, target=0\n",
    "qc.swap(0, 1)  # SWAP gate\n",
    "\n",
    "qc.measure_all()\n",
    "\n",
    "print(\"Quantum Circuit (Swapped Control/Target):\")\n",
    "print(qc.draw())\n",
    "\n",
    "compiled = transpile(qc, sim)\n",
    "result = sim.run(compiled, shots=1024).result()\n",
    "counts = result.get_counts()\n",
    "\n",
    "print(\"\\nMeasurement Counts:\", counts)\n"
   ]
  },
  {
   "cell_type": "markdown",
   "id": "33d826e0-0890-42e1-8a88-d7fbd16694b6",
   "metadata": {},
   "source": [
    "Task 2: Gate Removal\n",
    "\n",
    "Without SWAP"
   ]
  },
  {
   "cell_type": "code",
   "execution_count": 6,
   "id": "85322ebb-b217-48a6-abdf-20e7b9c5a884",
   "metadata": {},
   "outputs": [
    {
     "name": "stdout",
     "output_type": "stream",
     "text": [
      "Quantum Circuit (Without SWAP):\n",
      "        ┌───┐         ░ ┌─┐   \n",
      "   q_0: ┤ H ├──■───■──░─┤M├───\n",
      "        └───┘┌─┴─┐ │  ░ └╥┘┌─┐\n",
      "   q_1: ─────┤ X ├─■──░──╫─┤M├\n",
      "             └───┘    ░  ║ └╥┘\n",
      "   c: 2/═════════════════╬══╬═\n",
      "                         ║  ║ \n",
      "meas: 2/═════════════════╩══╩═\n",
      "                         0  1 \n",
      "\n",
      "Measurement Counts: {'11 00': 523, '00 00': 501}\n"
     ]
    }
   ],
   "source": [
    "from qiskit import QuantumCircuit, transpile\n",
    "from qiskit_aer import AerSimulator\n",
    "\n",
    "sim = AerSimulator()\n",
    "qc = QuantumCircuit(2, 2)\n",
    "\n",
    "qc.h(0)        # Hadamard on qubit 0\n",
    "qc.cx(0, 1)    # CNOT gate\n",
    "qc.cz(0, 1)    # Controlled-Z\n",
    "\n",
    "qc.measure_all()\n",
    "\n",
    "print(\"Quantum Circuit (Without SWAP):\")\n",
    "print(qc.draw())\n",
    "\n",
    "compiled = transpile(qc, sim)\n",
    "result = sim.run(compiled, shots=1024).result()\n",
    "counts = result.get_counts()\n",
    "\n",
    "print(\"\\nMeasurement Counts:\", counts)\n"
   ]
  },
  {
   "cell_type": "markdown",
   "id": "2b58aeea-9dec-479a-b2b3-60e0baed4bd9",
   "metadata": {},
   "source": [
    "Without Hadamard"
   ]
  },
  {
   "cell_type": "code",
   "execution_count": 18,
   "id": "522f75fb-b119-48a6-9f37-804cd5e9d480",
   "metadata": {},
   "outputs": [
    {
     "name": "stdout",
     "output_type": "stream",
     "text": [
      "Quantum Circuit (Without Hadamard):\n",
      "                    ░ ┌─┐   \n",
      "   q_0: ──■───■──X──░─┤M├───\n",
      "        ┌─┴─┐ │  │  ░ └╥┘┌─┐\n",
      "   q_1: ┤ X ├─■──X──░──╫─┤M├\n",
      "        └───┘       ░  ║ └╥┘\n",
      "   c: 2/═══════════════╬══╬═\n",
      "                       ║  ║ \n",
      "meas: 2/═══════════════╩══╩═\n",
      "                       0  1 \n",
      "\n",
      "Measurement Counts: {'00 00': 1024}\n"
     ]
    }
   ],
   "source": [
    "from qiskit import QuantumCircuit, transpile\n",
    "from qiskit_aer import AerSimulator\n",
    "\n",
    "sim = AerSimulator()\n",
    "qc = QuantumCircuit(2, 2)\n",
    "\n",
    "qc.cx(0, 1)    # CNOT gate\n",
    "qc.cz(0, 1)    # Controlled-Z\n",
    "qc.swap(0, 1)  # Removed SWAP gate\n",
    "\n",
    "qc.measure_all()\n",
    "\n",
    "print(\"Quantum Circuit (Without Hadamard):\")\n",
    "print(qc.draw())\n",
    "\n",
    "compiled = transpile(qc, sim)\n",
    "result = sim.run(compiled, shots=1024).result()\n",
    "counts = result.get_counts()\n",
    "\n",
    "print(\"\\nMeasurement Counts:\", counts)\n"
   ]
  },
  {
   "cell_type": "markdown",
   "id": "2eb722da-a438-4e38-af01-8f3d17134904",
   "metadata": {},
   "source": [
    "Without CNOT"
   ]
  },
  {
   "cell_type": "code",
   "execution_count": 20,
   "id": "f55fba6f-3df1-4052-acec-c34fb4f7615b",
   "metadata": {},
   "outputs": [
    {
     "name": "stdout",
     "output_type": "stream",
     "text": [
      "Quantum Circuit (Without CNOT):\n",
      "        ┌───┐       ░ ┌─┐   \n",
      "   q_0: ┤ H ├─■──X──░─┤M├───\n",
      "        └───┘ │  │  ░ └╥┘┌─┐\n",
      "   q_1: ──────■──X──░──╫─┤M├\n",
      "                    ░  ║ └╥┘\n",
      "   c: 2/═══════════════╬══╬═\n",
      "                       ║  ║ \n",
      "meas: 2/═══════════════╩══╩═\n",
      "                       0  1 \n",
      "\n",
      "Measurement Counts: {'10 00': 501, '00 00': 523}\n"
     ]
    }
   ],
   "source": [
    "from qiskit import QuantumCircuit, transpile\n",
    "from qiskit_aer import AerSimulator\n",
    "\n",
    "sim = AerSimulator()\n",
    "qc = QuantumCircuit(2, 2)\n",
    "\n",
    "qc.h(0)        # Hadamard on qubit 0\n",
    "qc.cz(0, 1)    # Controlled-Z\n",
    "qc.swap(0, 1)  # Removed SWAP gate\n",
    "\n",
    "qc.measure_all()\n",
    "\n",
    "print(\"Quantum Circuit (Without CNOT):\")\n",
    "print(qc.draw())\n",
    "\n",
    "compiled = transpile(qc, sim)\n",
    "result = sim.run(compiled, shots=1024).result()\n",
    "counts = result.get_counts()\n",
    "\n",
    "print(\"\\nMeasurement Counts:\", counts)\n"
   ]
  },
  {
   "cell_type": "markdown",
   "id": "552bebed-e390-4a06-b905-eea146d9e029",
   "metadata": {},
   "source": [
    "Without Controlled-z"
   ]
  },
  {
   "cell_type": "code",
   "execution_count": 22,
   "id": "8e3ab985-cff1-478f-8ec3-70c328eeb132",
   "metadata": {},
   "outputs": [
    {
     "name": "stdout",
     "output_type": "stream",
     "text": [
      "Quantum Circuit (Without Controlled-z):\n",
      "        ┌───┐         ░ ┌─┐   \n",
      "   q_0: ┤ H ├──■───X──░─┤M├───\n",
      "        └───┘┌─┴─┐ │  ░ └╥┘┌─┐\n",
      "   q_1: ─────┤ X ├─X──░──╫─┤M├\n",
      "             └───┘    ░  ║ └╥┘\n",
      "   c: 2/═════════════════╬══╬═\n",
      "                         ║  ║ \n",
      "meas: 2/═════════════════╩══╩═\n",
      "                         0  1 \n",
      "\n",
      "Measurement Counts: {'11 00': 532, '00 00': 492}\n"
     ]
    }
   ],
   "source": [
    "from qiskit import QuantumCircuit, transpile\n",
    "from qiskit_aer import AerSimulator\n",
    "\n",
    "sim = AerSimulator()\n",
    "qc = QuantumCircuit(2, 2)\n",
    "\n",
    "qc.h(0)        # Hadamard on qubit 0\n",
    "qc.cx(0, 1)    # CNOT gate\n",
    "qc.swap(0, 1)  # Removed SWAP gate\n",
    "\n",
    "qc.measure_all()\n",
    "\n",
    "print(\"Quantum Circuit (Without Controlled-z):\")\n",
    "print(qc.draw())\n",
    "\n",
    "compiled = transpile(qc, sim)\n",
    "result = sim.run(compiled, shots=1024).result()\n",
    "counts = result.get_counts()\n",
    "\n",
    "print(\"\\nMeasurement Counts:\", counts)\n"
   ]
  },
  {
   "cell_type": "markdown",
   "id": "03e11962-a212-4646-a8e5-e09a26a7c24b",
   "metadata": {},
   "source": [
    "Task 3: Add Another Hadamard"
   ]
  },
  {
   "cell_type": "code",
   "execution_count": 25,
   "id": "198b8834-5a3b-42bb-b962-0e3aaf85a7e7",
   "metadata": {},
   "outputs": [
    {
     "name": "stdout",
     "output_type": "stream",
     "text": [
      "Quantum Circuit (Added H on Qubit 1):\n",
      "        ┌───┐            ░ ┌─┐   \n",
      "   q_0: ┤ H ├──■───■──X──░─┤M├───\n",
      "        ├───┤┌─┴─┐ │  │  ░ └╥┘┌─┐\n",
      "   q_1: ┤ H ├┤ X ├─■──X──░──╫─┤M├\n",
      "        └───┘└───┘       ░  ║ └╥┘\n",
      "   c: 2/════════════════════╬══╬═\n",
      "                            ║  ║ \n",
      "meas: 2/════════════════════╩══╩═\n",
      "                            0  1 \n",
      "\n",
      "Measurement Counts: {'00 00': 260, '10 00': 289, '01 00': 247, '11 00': 228}\n"
     ]
    }
   ],
   "source": [
    "from qiskit import QuantumCircuit, transpile\n",
    "from qiskit_aer import AerSimulator\n",
    "\n",
    "sim = AerSimulator()\n",
    "qc = QuantumCircuit(2, 2)\n",
    "\n",
    "qc.h(0)        # Hadamard on qubit 0\n",
    "qc.h(1)        # Added Hadamard on qubit 1\n",
    "qc.cx(0, 1)    # CNOT\n",
    "qc.cz(0, 1)    # Controlled-Z\n",
    "qc.swap(0, 1)  # SWAP gate\n",
    "\n",
    "qc.measure_all()\n",
    "\n",
    "print(\"Quantum Circuit (Added H on Qubit 1):\")\n",
    "print(qc.draw())\n",
    "\n",
    "compiled = transpile(qc, sim)\n",
    "result = sim.run(compiled, shots=1024).result()\n",
    "counts = result.get_counts()\n",
    "\n",
    "print(\"\\nMeasurement Counts:\", counts)\n"
   ]
  },
  {
   "cell_type": "code",
   "execution_count": 37,
   "id": "8203d9c5-5bd7-4518-a5ed-19fc6aaba6a8",
   "metadata": {},
   "outputs": [
    {
     "name": "stdout",
     "output_type": "stream",
     "text": [
      "Original Circuit:\n",
      "        ┌───┐            ░ ┌─┐   \n",
      "   q_0: ┤ H ├──■───■──X──░─┤M├───\n",
      "        └───┘┌─┴─┐ │  │  ░ └╥┘┌─┐\n",
      "   q_1: ─────┤ X ├─■──X──░──╫─┤M├\n",
      "             └───┘       ░  ║ └╥┘\n",
      "   c: 2/════════════════════╬══╬═\n",
      "                            ║  ║ \n",
      "meas: 2/════════════════════╩══╩═\n",
      "                            0  1 \n",
      "\n",
      "Measurement Counts (Original): {'11 00': 473, '00 00': 551}\n",
      "\n",
      "Modified Circuit (Added H on Qubit 1):\n",
      "        ┌───┐            ░ ┌─┐   \n",
      "   q_0: ┤ H ├──■───■──X──░─┤M├───\n",
      "        ├───┤┌─┴─┐ │  │  ░ └╥┘┌─┐\n",
      "   q_1: ┤ H ├┤ X ├─■──X──░──╫─┤M├\n",
      "        └───┘└───┘       ░  ║ └╥┘\n",
      "   c: 2/════════════════════╬══╬═\n",
      "                            ║  ║ \n",
      "meas: 2/════════════════════╩══╩═\n",
      "                            0  1 \n",
      "\n",
      "Measurement Counts (Modified): {'10 00': 248, '00 00': 262, '11 00': 243, '01 00': 271}\n",
      "\n",
      "Comparison Histogram:\n"
     ]
    },
    {
     "data": {
      "image/png": "[encoded data removed]",
      "text/plain": [
       "<Figure size 640x480 with 1 Axes>"
      ]
     },
     "metadata": {},
     "output_type": "display_data"
    }
   ],
   "source": [
    "from qiskit import QuantumCircuit, transpile\n",
    "from qiskit_aer import AerSimulator\n",
    "from qiskit.visualization import plot_histogram\n",
    "import matplotlib.pyplot as plt\n",
    "\n",
    "# Initialize simulator\n",
    "sim = AerSimulator()\n",
    "\n",
    "# -----------------------------\n",
    "# Original Circuit\n",
    "# -----------------------------\n",
    "qc_original = QuantumCircuit(2, 2)\n",
    "qc_original.h(0)\n",
    "qc_original.cx(0, 1)\n",
    "qc_original.cz(0, 1)\n",
    "qc_original.swap(0, 1)\n",
    "qc_original.measure_all()\n",
    "\n",
    "compiled_orig = transpile(qc_original, sim)\n",
    "result_orig = sim.run(compiled_orig, shots=1024).result()\n",
    "counts_orig = result_orig.get_counts()\n",
    "\n",
    "print(\"Original Circuit:\")\n",
    "print(qc_original.draw())\n",
    "print(\"\\nMeasurement Counts (Original):\", counts_orig)\n",
    "\n",
    "# -----------------------------\n",
    "# Modified Circuit (Add H on qubit 1)\n",
    "# -----------------------------\n",
    "qc_modified = QuantumCircuit(2, 2)\n",
    "qc_modified.h(0)\n",
    "qc_modified.h(1)      # Added Hadamard on qubit 1\n",
    "qc_modified.cx(0, 1)\n",
    "qc_modified.cz(0, 1)\n",
    "qc_modified.swap(0, 1)\n",
    "qc_modified.measure_all()\n",
    "\n",
    "compiled_mod = transpile(qc_modified, sim)\n",
    "result_mod = sim.run(compiled_mod, shots=1024).result()\n",
    "counts_mod = result_mod.get_counts()\n",
    "\n",
    "print(\"\\nModified Circuit (Added H on Qubit 1):\")\n",
    "print(qc_modified.draw())\n",
    "print(\"\\nMeasurement Counts (Modified):\", counts_mod)\n",
    "\n",
    "# -----------------------------\n",
    "# Compare Results Visually\n",
    "# -----------------------------\n",
    "print(\"\\nComparison Histogram:\")\n",
    "display(plot_histogram([counts_orig, counts_mod], legend=['Original', 'With H on Q1']))\n",
    "plt.show()\n"
   ]
  },
  {
   "cell_type": "code",
   "execution_count": null,
   "id": "2beb287a-67e7-470d-b23d-ec734f2c5859",
   "metadata": {},
   "outputs": [],
   "source": []
  }
 ],
 "metadata": {
  "kernelspec": {
   "display_name": "Python 3 (ipykernel)",
   "language": "python",
   "name": "python3"
  },
  "language_info": {
   "codemirror_mode": {
    "name": "ipython",
    "version": 3
   },
   "file_extension": ".py",
   "mimetype": "text/x-python",
   "name": "python",
   "nbconvert_exporter": "python",
   "pygments_lexer": "ipython3",
   "version": "3.12.4"
  }
 },
 "nbformat": 4,
 "nbformat_minor": 5
}
